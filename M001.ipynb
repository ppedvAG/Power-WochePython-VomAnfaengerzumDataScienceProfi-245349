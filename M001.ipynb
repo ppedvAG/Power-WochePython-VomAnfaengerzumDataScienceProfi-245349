{
 "cells": [
  {
   "cell_type": "markdown",
   "id": "35e36f01-6a3b-4c25-99a3-d67d38cd28bf",
   "metadata": {},
   "source": [
    "## IPython Notebooks\n",
    "\n",
    "Funktionen\n",
    "- Zellen\n",
    "- Zellen können unabhängig voneinander ausgeführt werden\n",
    "- Wenn eine Zelle ausgeführt wird, ist das Ergebnis sofort sichtbar\n",
    "- Grafiken darstellen\n",
    "- Schön formatierte Zellen (Markdown)"
   ]
  },
  {
   "cell_type": "markdown",
   "id": "1b78b803-f302-4d05-bb41-1c05f749b4cb",
   "metadata": {},
   "source": [
    "### Zellen Darstellung"
   ]
  },
  {
   "cell_type": "code",
   "execution_count": 1,
   "id": "591698fb-97b1-4619-9b06-f8475c0d43fa",
   "metadata": {},
   "outputs": [],
   "source": [
    "x = 5"
   ]
  },
  {
   "cell_type": "code",
   "execution_count": 2,
   "id": "fe3510e8-8f85-4878-86cf-fc3f24580edb",
   "metadata": {},
   "outputs": [
    {
     "data": {
      "text/plain": [
       "25"
      ]
     },
     "execution_count": 2,
     "metadata": {},
     "output_type": "execute_result"
    }
   ],
   "source": [
    "x ** 2  # Zugriff auf vorherige Zellen"
   ]
  },
  {
   "cell_type": "markdown",
   "id": "3dc1b994-1934-4922-a5bc-1e05f52e202e",
   "metadata": {},
   "source": [
    "### Tabelle darstellen"
   ]
  },
  {
   "cell_type": "code",
   "execution_count": 3,
   "id": "4ac42fb1-af9d-4871-888d-9bc665f138e4",
   "metadata": {},
   "outputs": [],
   "source": [
    "import pandas as pd"
   ]
  },
  {
   "cell_type": "code",
   "execution_count": 4,
   "id": "82d907e2-f38c-4ae0-bd44-872a317a5347",
   "metadata": {},
   "outputs": [
    {
     "data": {
      "text/html": [
       "<div>\n",
       "<style scoped>\n",
       "    .dataframe tbody tr th:only-of-type {\n",
       "        vertical-align: middle;\n",
       "    }\n",
       "\n",
       "    .dataframe tbody tr th {\n",
       "        vertical-align: top;\n",
       "    }\n",
       "\n",
       "    .dataframe thead th {\n",
       "        text-align: right;\n",
       "    }\n",
       "</style>\n",
       "<table border=\"1\" class=\"dataframe\">\n",
       "  <thead>\n",
       "    <tr style=\"text-align: right;\">\n",
       "      <th></th>\n",
       "      <th>Spalte1</th>\n",
       "      <th>Spalte2</th>\n",
       "      <th>Spalte3</th>\n",
       "    </tr>\n",
       "  </thead>\n",
       "  <tbody>\n",
       "    <tr>\n",
       "      <th>0</th>\n",
       "      <td>1</td>\n",
       "      <td>4</td>\n",
       "      <td>7</td>\n",
       "    </tr>\n",
       "    <tr>\n",
       "      <th>1</th>\n",
       "      <td>2</td>\n",
       "      <td>5</td>\n",
       "      <td>8</td>\n",
       "    </tr>\n",
       "    <tr>\n",
       "      <th>2</th>\n",
       "      <td>3</td>\n",
       "      <td>6</td>\n",
       "      <td>9</td>\n",
       "    </tr>\n",
       "  </tbody>\n",
       "</table>\n",
       "</div>"
      ],
      "text/plain": [
       "   Spalte1  Spalte2  Spalte3\n",
       "0        1        4        7\n",
       "1        2        5        8\n",
       "2        3        6        9"
      ]
     },
     "execution_count": 4,
     "metadata": {},
     "output_type": "execute_result"
    }
   ],
   "source": [
    "pd.DataFrame({ \"Spalte1\": [1, 2, 3], \"Spalte2\": [4, 5, 6], \"Spalte3\": [7, 8, 9] })"
   ]
  },
  {
   "cell_type": "markdown",
   "id": "15c8d3ac-59f0-45d5-8b13-246d4ef4457d",
   "metadata": {},
   "source": [
    "### Diagramme darstellen"
   ]
  },
  {
   "cell_type": "code",
   "execution_count": 5,
   "id": "3042f8e6-39a3-4fda-9cef-1cb2b65231db",
   "metadata": {},
   "outputs": [],
   "source": [
    "import matplotlib.pyplot as plt"
   ]
  },
  {
   "cell_type": "code",
   "execution_count": 6,
   "id": "81232c7e-4edc-4259-bfc8-d1fa758264f2",
   "metadata": {},
   "outputs": [],
   "source": [
    "y = [3.4, 9.2, 1.1, 8.5, 3.7, 4.7]"
   ]
  },
  {
   "cell_type": "code",
   "execution_count": 7,
   "id": "8219f2ec-54aa-40e4-bf02-5c8c92c6dad4",
   "metadata": {},
   "outputs": [
    {
     "data": {
      "text/plain": [
       "[<matplotlib.lines.Line2D at 0x2c432ba8a50>]"
      ]
     },
     "execution_count": 7,
     "metadata": {},
     "output_type": "execute_result"
    },
    {
     "data": {
      "image/png": "[encoded data removed]",
      "text/plain": [
       "<Figure size 640x480 with 1 Axes>"
      ]
     },
     "metadata": {},
     "output_type": "display_data"
    }
   ],
   "source": [
    "plt.plot(y)"
   ]
  },
  {
   "cell_type": "markdown",
   "id": "79289ca6-5dfb-4a8b-ac45-6b270d276a14",
   "metadata": {},
   "source": [
    "## Markdown Syntax\n",
    "\n",
    "# Überschrift 1\n",
    "## Überschrift 2\n",
    "### Überschrift 3\n",
    "#### Überschrift 4\n",
    "\n",
    "- Aufzählung\n",
    "- Nächste Zeile\n",
    "    - Unterpunkt\n",
    "        - Unterunterpunkt\n",
    "     \n",
    "__Fetter Text__\n",
    "\n",
    "_Kursiver Text_\n",
    "\n",
    "---"
   ]
  },
  {
   "cell_type": "markdown",
   "id": "5973784d-635e-4222-a880-6f16e13cfd72",
   "metadata": {},
   "source": [
    "## Shortcuts\n",
    "\n",
    "- Shift + Enter: Zelle ausführen\n",
    "- Strg + Enter: Zelle ausführen, aber bewegt den Cursor nicht zur nächsten Zelle\n",
    "- Enter: Zelle betreten\n",
    "- Pfeil hoch/hinunter: Zwischen Zellen navigieren\n",
    "- M, Y: Zelle zw. Markdown und Code wechseln\n",
    "- A, B: Neue Zelle erzeugen\n",
    "- D, D: Zelle löschen\n",
    "- Z: Rückgängig machen\n",
    "- Shift + Z: Wiederherstellen"
   ]
  }
 ],
 "metadata": {
  "kernelspec": {
   "display_name": "Python 3 (ipykernel)",
   "language": "python",
   "name": "python3"
  },
  "language_info": {
   "codemirror_mode": {
    "name": "ipython",
    "version": 3
   },
   "file_extension": ".py",
   "mimetype": "text/x-python",
   "name": "python",
   "nbconvert_exporter": "python",
   "pygments_lexer": "ipython3",
   "version": "3.13.1"
  }
 },
 "nbformat": 4,
 "nbformat_minor": 5
}
