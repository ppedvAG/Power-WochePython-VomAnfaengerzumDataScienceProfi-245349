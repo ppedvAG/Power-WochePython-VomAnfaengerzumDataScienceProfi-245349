{
 "cells": [
  {
   "cell_type": "markdown",
   "id": "558b5edc-a4cb-4d83-b59b-17a85b53dbef",
   "metadata": {},
   "source": [
    "## Numpy\n",
    "\n",
    "-> Number Python\n",
    "\n",
    "Bibliothek für Verarbeitung von Zahlen\n",
    "- Alle möglichen mathematischen Funktionen\n",
    "- Listenverarbeitung (1D, 2D, 3D, ...)\n",
    "\n",
    "In C geschrieben -> Performant"
   ]
  },
  {
   "cell_type": "code",
   "execution_count": 2,
   "id": "1f184e15-a6b4-476d-a790-3e54f7b6c73b",
   "metadata": {},
   "outputs": [],
   "source": [
    "import numpy as np"
   ]
  },
  {
   "cell_type": "markdown",
   "id": "fbcfd944-917d-49aa-b824-d300013e573b",
   "metadata": {},
   "source": [
    "### Array\n",
    "\n",
    "-> Numpy Liste\n",
    "\n",
    "Grundstruktur für Daten in Pandas, Matplotlib, ML, ...\n",
    "\n",
    "Kann mehrdimensional sein"
   ]
  },
  {
   "cell_type": "markdown",
   "id": "db041262-2b10-4c09-8c4f-4a4e28261065",
   "metadata": {},
   "source": [
    "#### np.array\n",
    "\n",
    "Erstellt ein Array aus einer Python Liste oder einem anderen Numpy Array"
   ]
  },
  {
   "cell_type": "code",
   "execution_count": 5,
   "id": "78f0f0e1-f325-45c3-8ff9-071b4166bb1d",
   "metadata": {},
   "outputs": [
    {
     "data": {
      "text/plain": [
       "array([1, 2, 3, 4])"
      ]
     },
     "execution_count": 5,
     "metadata": {},
     "output_type": "execute_result"
    }
   ],
   "source": [
    "l = [1, 2, 3, 4]\n",
    "np.array(l)"
   ]
  },
  {
   "cell_type": "code",
   "execution_count": 6,
   "id": "d87f4a47-b512-4fec-b4a5-14a051d237d3",
   "metadata": {},
   "outputs": [],
   "source": [
    "a = np.array([1, 2, 3, 4])"
   ]
  },
  {
   "cell_type": "markdown",
   "id": "e2491d8d-455b-4af4-9dcf-776bf0e2a3a0",
   "metadata": {},
   "source": [
    "#### Index"
   ]
  },
  {
   "cell_type": "code",
   "execution_count": 7,
   "id": "c2e62def-0191-4db2-ad0c-56c452c54c30",
   "metadata": {},
   "outputs": [
    {
     "data": {
      "text/plain": [
       "np.int64(1)"
      ]
     },
     "execution_count": 7,
     "metadata": {},
     "output_type": "execute_result"
    }
   ],
   "source": [
    "a[0]"
   ]
  },
  {
   "cell_type": "code",
   "execution_count": 8,
   "id": "1e3fff28-de0f-45b7-ba0c-8509d33d01be",
   "metadata": {},
   "outputs": [
    {
     "data": {
      "text/plain": [
       "np.int64(4)"
      ]
     },
     "execution_count": 8,
     "metadata": {},
     "output_type": "execute_result"
    }
   ],
   "source": [
    "a[-1]"
   ]
  },
  {
   "cell_type": "code",
   "execution_count": 9,
   "id": "89ae6ba8-d16e-418d-92ff-0d93e33ababc",
   "metadata": {},
   "outputs": [
    {
     "data": {
      "text/plain": [
       "array([1, 2])"
      ]
     },
     "execution_count": 9,
     "metadata": {},
     "output_type": "execute_result"
    }
   ],
   "source": [
    "a[0:2]"
   ]
  },
  {
   "cell_type": "markdown",
   "id": "602a443e-08f5-4617-bd33-84bc13c10b80",
   "metadata": {},
   "source": [
    "#### Datentypen\n",
    "\n",
    "In Python gibt es nur zwei Zahlentypen: int und float\n",
    "\n",
    "In Numpy gibt es präzisere Typen\n",
    "\n",
    "Ganze Zahlen:\n",
    "- int8\n",
    "- int16\n",
    "- int32\n",
    "- int64\n",
    "\n",
    "Kommazahlen:\n",
    "- float16\n",
    "- float32\n",
    "- float64"
   ]
  },
  {
   "cell_type": "code",
   "execution_count": 11,
   "id": "b0bf0d8b-3c7a-44ee-a589-66378f0741f3",
   "metadata": {},
   "outputs": [],
   "source": [
    "b = np.array([2.4, 9.4, 8.5, 2.2])"
   ]
  },
  {
   "cell_type": "code",
   "execution_count": 14,
   "id": "4e6b21e7-27b8-4e78-baac-bad1b683a9ef",
   "metadata": {},
   "outputs": [
    {
     "data": {
      "text/plain": [
       "dtype('float64')"
      ]
     },
     "execution_count": 14,
     "metadata": {},
     "output_type": "execute_result"
    }
   ],
   "source": [
    "b.dtype  # 8 Byte pro Zahl"
   ]
  },
  {
   "cell_type": "code",
   "execution_count": 16,
   "id": "0c57f326-0688-4c10-8263-db96d5e0e8f8",
   "metadata": {},
   "outputs": [
    {
     "data": {
      "text/plain": [
       "dtype('int64')"
      ]
     },
     "execution_count": 16,
     "metadata": {},
     "output_type": "execute_result"
    }
   ],
   "source": [
    "a.dtype  # 8 Byte pro Zahl"
   ]
  },
  {
   "cell_type": "code",
   "execution_count": 18,
   "id": "f153c52f-6519-4d56-ba08-b2b12ee58283",
   "metadata": {},
   "outputs": [],
   "source": [
    "a = np.array([1, 2, 3, 4], dtype=np.int8)"
   ]
  },
  {
   "cell_type": "code",
   "execution_count": 20,
   "id": "e62341d6-d7c1-450a-9285-2bbc94df5f06",
   "metadata": {},
   "outputs": [
    {
     "data": {
      "text/plain": [
       "dtype('int8')"
      ]
     },
     "execution_count": 20,
     "metadata": {},
     "output_type": "execute_result"
    }
   ],
   "source": [
    "a.dtype  # 1 Byte pro Zahl"
   ]
  },
  {
   "cell_type": "code",
   "execution_count": 25,
   "id": "302b7b2b-fef6-4b50-96d5-9674d769a84c",
   "metadata": {},
   "outputs": [],
   "source": [
    "b = np.array([2.4, 9.4, 8.5, 2.2], dtype=np.float16)"
   ]
  },
  {
   "cell_type": "code",
   "execution_count": 26,
   "id": "ddc26476-73d6-4de4-aabb-173008f645e5",
   "metadata": {},
   "outputs": [
    {
     "data": {
      "text/plain": [
       "array([2.4, 9.4, 8.5, 2.2], dtype=float16)"
      ]
     },
     "execution_count": 26,
     "metadata": {},
     "output_type": "execute_result"
    }
   ],
   "source": [
    "b"
   ]
  },
  {
   "cell_type": "markdown",
   "id": "217a276f-c802-46c7-b652-f925a0d381ea",
   "metadata": {},
   "source": [
    "### Matrizen\n",
    "\n",
    "Zweidimensionales Array\n",
    "\n",
    "Jede Tabelle ist ein 2D-Array (SQL, CSV, XML)"
   ]
  },
  {
   "cell_type": "code",
   "execution_count": 27,
   "id": "13343d41-04aa-46a3-b2d2-50e63db196ec",
   "metadata": {},
   "outputs": [],
   "source": [
    "c = np.array([\n",
    "    [1, 2, 3],\n",
    "    [4, 5, 6],\n",
    "    [7, 8, 9]\n",
    "])"
   ]
  },
  {
   "cell_type": "code",
   "execution_count": 28,
   "id": "fb337f5c-8b79-419c-83e9-24771dc0edc3",
   "metadata": {},
   "outputs": [
    {
     "data": {
      "text/plain": [
       "array([[1, 2, 3],\n",
       "       [4, 5, 6],\n",
       "       [7, 8, 9]])"
      ]
     },
     "execution_count": 28,
     "metadata": {},
     "output_type": "execute_result"
    }
   ],
   "source": [
    "c"
   ]
  },
  {
   "cell_type": "code",
   "execution_count": 31,
   "id": "37fc0021-3824-43c8-9540-a94205cfc66b",
   "metadata": {},
   "outputs": [
    {
     "data": {
      "text/plain": [
       "2"
      ]
     },
     "execution_count": 31,
     "metadata": {},
     "output_type": "execute_result"
    }
   ],
   "source": [
    "c.ndim  # Anzahl Dimensionen"
   ]
  },
  {
   "cell_type": "code",
   "execution_count": 33,
   "id": "cf794b1a-977b-4f3f-833a-7f456f046e7b",
   "metadata": {},
   "outputs": [
    {
     "data": {
      "text/plain": [
       "(3, 3)"
      ]
     },
     "execution_count": 33,
     "metadata": {},
     "output_type": "execute_result"
    }
   ],
   "source": [
    "c.shape  # Größe in X mal Y"
   ]
  },
  {
   "cell_type": "code",
   "execution_count": 34,
   "id": "fb66998a-0bf6-429d-a855-a632b4645d0c",
   "metadata": {},
   "outputs": [],
   "source": [
    "d = np.array([\n",
    "    [[1, 2], [4, 5], [6, 7]],\n",
    "    [[8, 9], [10, 11], [12, 13]]\n",
    "])"
   ]
  },
  {
   "cell_type": "code",
   "execution_count": 35,
   "id": "bb0be124-15e4-4b1b-882a-453919159aa6",
   "metadata": {},
   "outputs": [
    {
     "data": {
      "text/plain": [
       "array([[[ 1,  2],\n",
       "        [ 4,  5],\n",
       "        [ 6,  7]],\n",
       "\n",
       "       [[ 8,  9],\n",
       "        [10, 11],\n",
       "        [12, 13]]])"
      ]
     },
     "execution_count": 35,
     "metadata": {},
     "output_type": "execute_result"
    }
   ],
   "source": [
    "d"
   ]
  },
  {
   "cell_type": "code",
   "execution_count": 36,
   "id": "c85bf4da-f453-4dac-b184-d837aec6f67c",
   "metadata": {},
   "outputs": [
    {
     "data": {
      "text/plain": [
       "(2, 3, 2)"
      ]
     },
     "execution_count": 36,
     "metadata": {},
     "output_type": "execute_result"
    }
   ],
   "source": [
    "d.shape"
   ]
  },
  {
   "cell_type": "code",
   "execution_count": 39,
   "id": "1c967568-08fc-4707-9b45-f37c7a98b803",
   "metadata": {},
   "outputs": [
    {
     "data": {
      "text/plain": [
       "3"
      ]
     },
     "execution_count": 39,
     "metadata": {},
     "output_type": "execute_result"
    }
   ],
   "source": [
    "len(c)  # Anzahl Zeilen"
   ]
  },
  {
   "cell_type": "code",
   "execution_count": 40,
   "id": "2a8aef51-f82a-4d03-ba7a-1b173fa89981",
   "metadata": {},
   "outputs": [
    {
     "data": {
      "text/plain": [
       "9"
      ]
     },
     "execution_count": 40,
     "metadata": {},
     "output_type": "execute_result"
    }
   ],
   "source": [
    "c.size  # Anzahl Gesamtelemente"
   ]
  },
  {
   "cell_type": "markdown",
   "id": "e6d13958-f137-4d32-baee-ba4f7ef5bc2a",
   "metadata": {},
   "source": [
    "#### Nochmal Index"
   ]
  },
  {
   "cell_type": "code",
   "execution_count": 43,
   "id": "865e1f6b-de39-4780-bfa3-09e760844d4a",
   "metadata": {},
   "outputs": [
    {
     "data": {
      "text/plain": [
       "array([1, 2, 3])"
      ]
     },
     "execution_count": 43,
     "metadata": {},
     "output_type": "execute_result"
    }
   ],
   "source": [
    "c[0]  # Die erste Zeile"
   ]
  },
  {
   "cell_type": "code",
   "execution_count": 44,
   "id": "34a4ae39-4de2-4855-9204-ce5733e2f200",
   "metadata": {},
   "outputs": [
    {
     "data": {
      "text/plain": [
       "array([7, 8, 9])"
      ]
     },
     "execution_count": 44,
     "metadata": {},
     "output_type": "execute_result"
    }
   ],
   "source": [
    "c[-1]  # Die letzte Zeile"
   ]
  },
  {
   "cell_type": "code",
   "execution_count": 45,
   "id": "3970da73-7151-4613-88dd-2e9a7191bdc3",
   "metadata": {},
   "outputs": [
    {
     "data": {
      "text/plain": [
       "np.int64(2)"
      ]
     },
     "execution_count": 45,
     "metadata": {},
     "output_type": "execute_result"
    }
   ],
   "source": [
    "c[0][1]"
   ]
  },
  {
   "cell_type": "code",
   "execution_count": 48,
   "id": "aa672e74-a3f0-4259-8aa2-98219bf74f09",
   "metadata": {},
   "outputs": [
    {
     "data": {
      "text/plain": [
       "np.int64(2)"
      ]
     },
     "execution_count": 48,
     "metadata": {},
     "output_type": "execute_result"
    }
   ],
   "source": [
    "c[0, 1]  # Felder angreifen mit X, Y basiertem Index (in Python nicht möglich)"
   ]
  },
  {
   "cell_type": "markdown",
   "id": "47e5efe3-fa5d-4ef8-9926-5c58f187e037",
   "metadata": {},
   "source": [
    "#### Slicing von Matrizen\n",
    "\n",
    "Teile einer Matrix entnehmen, welche nicht nur in einer Reihe sind"
   ]
  },
  {
   "cell_type": "code",
   "execution_count": 49,
   "id": "0d61d261-28d0-41da-b6b2-aab30f2a7a5c",
   "metadata": {},
   "outputs": [
    {
     "data": {
      "text/plain": [
       "array([[1, 2, 3],\n",
       "       [4, 5, 6],\n",
       "       [7, 8, 9]])"
      ]
     },
     "execution_count": 49,
     "metadata": {},
     "output_type": "execute_result"
    }
   ],
   "source": [
    "c"
   ]
  },
  {
   "cell_type": "code",
   "execution_count": 53,
   "id": "e0e2ea67-e5aa-45f1-92f2-dd943013f2d3",
   "metadata": {},
   "outputs": [
    {
     "data": {
      "text/plain": [
       "array([[2, 3],\n",
       "       [5, 6]])"
      ]
     },
     "execution_count": 53,
     "metadata": {},
     "output_type": "execute_result"
    }
   ],
   "source": [
    "c[0:2, 1:3]  # Zeilen 0-2 (ohne 2), Spalten 1-3 (ohne 3)"
   ]
  },
  {
   "cell_type": "code",
   "execution_count": 55,
   "id": "db50362f-1a7d-49d3-9a93-ecdb9524f7a8",
   "metadata": {},
   "outputs": [
    {
     "data": {
      "text/plain": [
       "array([[2, 3],\n",
       "       [5, 6]])"
      ]
     },
     "execution_count": 55,
     "metadata": {},
     "output_type": "execute_result"
    }
   ],
   "source": [
    "c[:2, 1:]"
   ]
  },
  {
   "cell_type": "code",
   "execution_count": 56,
   "id": "ea22eda6-e054-4fc0-9af2-f7139232df9d",
   "metadata": {},
   "outputs": [
    {
     "data": {
      "text/plain": [
       "array([3, 6, 9])"
      ]
     },
     "execution_count": 56,
     "metadata": {},
     "output_type": "execute_result"
    }
   ],
   "source": [
    "# Aufgabe: Rechte Spalte entnehmen (3, 6, 9)\n",
    "c[:3, 2]"
   ]
  },
  {
   "cell_type": "code",
   "execution_count": 59,
   "id": "3dd790d1-8d66-48e2-a99b-ed2c9f010a65",
   "metadata": {},
   "outputs": [
    {
     "data": {
      "text/plain": [
       "array([3, 6, 9])"
      ]
     },
     "execution_count": 59,
     "metadata": {},
     "output_type": "execute_result"
    }
   ],
   "source": [
    "c[:, 2]  # Doppelpunkt alleine: Alle Spalten/Zeilen"
   ]
  },
  {
   "cell_type": "code",
   "execution_count": 58,
   "id": "96b1d736-b7f6-4e91-822f-95cdaafc2393",
   "metadata": {},
   "outputs": [
    {
     "data": {
      "text/plain": [
       "array([3, 6, 9])"
      ]
     },
     "execution_count": 58,
     "metadata": {},
     "output_type": "execute_result"
    }
   ],
   "source": [
    "c[:, -1]"
   ]
  },
  {
   "cell_type": "code",
   "execution_count": 62,
   "id": "477bec38-c22a-4f08-9288-dafcb82e7b64",
   "metadata": {},
   "outputs": [
    {
     "data": {
      "text/plain": [
       "array([[1, 2],\n",
       "       [4, 5],\n",
       "       [7, 8]])"
      ]
     },
     "execution_count": 62,
     "metadata": {},
     "output_type": "execute_result"
    }
   ],
   "source": [
    "# Aufgabe: Linken beiden Spalten nehmen (1, 2, 4, 5, 7, 8)\n",
    "c[:, :2]"
   ]
  },
  {
   "cell_type": "markdown",
   "id": "da923022-9bc5-4a9e-9a37-3603a2840571",
   "metadata": {},
   "source": [
    "#### Neue Werte eintragen"
   ]
  },
  {
   "cell_type": "code",
   "execution_count": 63,
   "id": "731a72ce-4251-47ce-b8e5-e37085c8fb87",
   "metadata": {},
   "outputs": [],
   "source": [
    "c[1, 1] = 20"
   ]
  },
  {
   "cell_type": "code",
   "execution_count": 64,
   "id": "120781e0-0c0f-4199-b8bf-0aaefa25b60b",
   "metadata": {},
   "outputs": [
    {
     "data": {
      "text/plain": [
       "array([[ 1,  2,  3],\n",
       "       [ 4, 20,  6],\n",
       "       [ 7,  8,  9]])"
      ]
     },
     "execution_count": 64,
     "metadata": {},
     "output_type": "execute_result"
    }
   ],
   "source": [
    "c"
   ]
  },
  {
   "cell_type": "code",
   "execution_count": 65,
   "id": "371d20f0-8405-43dc-99b6-51c9cd00144c",
   "metadata": {},
   "outputs": [],
   "source": [
    "c[0] = 50"
   ]
  },
  {
   "cell_type": "code",
   "execution_count": 66,
   "id": "3867ab05-7de5-4124-8ebe-fe6f90a89faa",
   "metadata": {},
   "outputs": [
    {
     "data": {
      "text/plain": [
       "array([[50, 50, 50],\n",
       "       [ 4, 20,  6],\n",
       "       [ 7,  8,  9]])"
      ]
     },
     "execution_count": 66,
     "metadata": {},
     "output_type": "execute_result"
    }
   ],
   "source": [
    "c"
   ]
  },
  {
   "cell_type": "code",
   "execution_count": 67,
   "id": "748de760-2583-47d4-8545-7b5bc8797330",
   "metadata": {},
   "outputs": [],
   "source": [
    "c[:, 2] = 100"
   ]
  },
  {
   "cell_type": "code",
   "execution_count": 68,
   "id": "fc5e61b3-c7ed-4580-aa65-a4074f119fe6",
   "metadata": {},
   "outputs": [
    {
     "data": {
      "text/plain": [
       "array([[ 50,  50, 100],\n",
       "       [  4,  20, 100],\n",
       "       [  7,   8, 100]])"
      ]
     },
     "execution_count": 68,
     "metadata": {},
     "output_type": "execute_result"
    }
   ],
   "source": [
    "c"
   ]
  },
  {
   "cell_type": "markdown",
   "id": "31c576ec-7d04-42e2-89d2-73e8bee14b8e",
   "metadata": {},
   "source": [
    "#### Einfache Analyse von Daten"
   ]
  },
  {
   "cell_type": "code",
   "execution_count": 69,
   "id": "33e5be70-5558-4aa1-ad65-6c7103681288",
   "metadata": {},
   "outputs": [
    {
     "data": {
      "text/plain": [
       "np.int64(439)"
      ]
     },
     "execution_count": 69,
     "metadata": {},
     "output_type": "execute_result"
    }
   ],
   "source": [
    "c.sum()"
   ]
  },
  {
   "cell_type": "code",
   "execution_count": 70,
   "id": "38c55169-41fc-4d8b-a223-f19f18e0ced4",
   "metadata": {},
   "outputs": [
    {
     "data": {
      "text/plain": [
       "np.int64(200)"
      ]
     },
     "execution_count": 70,
     "metadata": {},
     "output_type": "execute_result"
    }
   ],
   "source": [
    "c[0].sum()"
   ]
  },
  {
   "cell_type": "code",
   "execution_count": 71,
   "id": "4ef9588a-122e-47e5-97cf-c8d657cfd497",
   "metadata": {},
   "outputs": [
    {
     "data": {
      "text/plain": [
       "np.int64(300)"
      ]
     },
     "execution_count": 71,
     "metadata": {},
     "output_type": "execute_result"
    }
   ],
   "source": [
    "c[:, 2].sum()"
   ]
  },
  {
   "cell_type": "code",
   "execution_count": 72,
   "id": "538f03cb-8f34-4347-9fd9-1e44e5792856",
   "metadata": {},
   "outputs": [
    {
     "data": {
      "text/plain": [
       "np.float64(48.77777777777778)"
      ]
     },
     "execution_count": 72,
     "metadata": {},
     "output_type": "execute_result"
    }
   ],
   "source": [
    "c.mean()"
   ]
  },
  {
   "cell_type": "code",
   "execution_count": 73,
   "id": "c68b31ae-cedd-4c6a-9b85-2d94ecede447",
   "metadata": {},
   "outputs": [
    {
     "data": {
      "text/plain": [
       "np.float64(39.60296783990305)"
      ]
     },
     "execution_count": 73,
     "metadata": {},
     "output_type": "execute_result"
    }
   ],
   "source": [
    "c.std()"
   ]
  },
  {
   "cell_type": "code",
   "execution_count": 74,
   "id": "cb94d0a5-25c0-48c6-a3a5-bc51addac652",
   "metadata": {},
   "outputs": [
    {
     "data": {
      "text/plain": [
       "np.float64(1568.3950617283951)"
      ]
     },
     "execution_count": 74,
     "metadata": {},
     "output_type": "execute_result"
    }
   ],
   "source": [
    "c.var()"
   ]
  },
  {
   "cell_type": "code",
   "execution_count": 75,
   "id": "08e1f22e-5968-43f8-ae63-a3f85e2a7fbb",
   "metadata": {},
   "outputs": [
    {
     "data": {
      "text/plain": [
       "np.int64(4)"
      ]
     },
     "execution_count": 75,
     "metadata": {},
     "output_type": "execute_result"
    }
   ],
   "source": [
    "c.min()"
   ]
  },
  {
   "cell_type": "code",
   "execution_count": 76,
   "id": "1cdb3d6f-4bf8-41fb-9bea-bfc2770e08fb",
   "metadata": {},
   "outputs": [
    {
     "data": {
      "text/plain": [
       "np.int64(100)"
      ]
     },
     "execution_count": 76,
     "metadata": {},
     "output_type": "execute_result"
    }
   ],
   "source": [
    "c.max()"
   ]
  },
  {
   "cell_type": "markdown",
   "id": "3827d08c-49c6-46da-9974-afb79bf2be74",
   "metadata": {},
   "source": [
    "Mit axis=[Achse] kann auch Zeilen-/Spaltenweise die entsprechende Operation durchgeführt werden"
   ]
  },
  {
   "cell_type": "code",
   "execution_count": 78,
   "id": "9960f618-c735-4184-93fd-b319eab73b0a",
   "metadata": {},
   "outputs": [
    {
     "data": {
      "text/plain": [
       "array([ 61,  78, 300])"
      ]
     },
     "execution_count": 78,
     "metadata": {},
     "output_type": "execute_result"
    }
   ],
   "source": [
    "c.sum(axis=0)  # axis=0: Spalten"
   ]
  },
  {
   "cell_type": "code",
   "execution_count": 80,
   "id": "d7eefab3-0cc7-4a64-89a9-df48dab27954",
   "metadata": {},
   "outputs": [
    {
     "data": {
      "text/plain": [
       "array([200, 124, 115])"
      ]
     },
     "execution_count": 80,
     "metadata": {},
     "output_type": "execute_result"
    }
   ],
   "source": [
    "c.sum(axis=1)  # axis=1: Zeilen"
   ]
  },
  {
   "cell_type": "code",
   "execution_count": 85,
   "id": "131dfb88-8883-4814-826f-eb372721d4a7",
   "metadata": {},
   "outputs": [
    {
     "data": {
      "text/plain": [
       "array([ 0,  3,  6,  9, 12, 15, 18, 21, 24, 27, 30, 33, 36, 39, 42, 45, 48,\n",
       "       51, 54, 57, 60, 63, 66, 69, 72, 75, 78, 81, 84, 87, 90, 93, 96, 99])"
      ]
     },
     "execution_count": 85,
     "metadata": {},
     "output_type": "execute_result"
    }
   ],
   "source": [
    "np.arange(0, 100, 3)  # arange: Array range, Array mit einer Range erstellen"
   ]
  },
  {
   "cell_type": "markdown",
   "id": "8f60b15c-9fe3-45c0-8924-4b35f920d07e",
   "metadata": {},
   "source": [
    "### Vektorisierung\n",
    "\n",
    "Gesamtes Array mit einer Operation beeinflussen"
   ]
  },
  {
   "cell_type": "code",
   "execution_count": 89,
   "id": "f19f8e28-424d-46a7-8cda-d508bdd673cc",
   "metadata": {},
   "outputs": [
    {
     "data": {
      "text/plain": [
       "array([11, 12, 13, 14], dtype=int8)"
      ]
     },
     "execution_count": 89,
     "metadata": {},
     "output_type": "execute_result"
    }
   ],
   "source": [
    "a + 10  # Jede Stelle wird um 10 erhöht"
   ]
  },
  {
   "cell_type": "code",
   "execution_count": 92,
   "id": "dcccea7d-13a4-465f-aa06-229e1e254ce2",
   "metadata": {},
   "outputs": [
    {
     "data": {
      "text/plain": [
       "array([[ 500,  500, 1000],\n",
       "       [  40,  200, 1000],\n",
       "       [  70,   80, 1000]])"
      ]
     },
     "execution_count": 92,
     "metadata": {},
     "output_type": "execute_result"
    }
   ],
   "source": [
    "c * 10  # Auch mit Matrix möglich"
   ]
  },
  {
   "cell_type": "markdown",
   "id": "7733e0dd-9358-4e96-8cfb-b7450ccc4412",
   "metadata": {},
   "source": [
    "Vektorisierung mit zwei Arrays"
   ]
  },
  {
   "cell_type": "code",
   "execution_count": 94,
   "id": "7d1dd185-9028-4a4a-b342-d846d4bbedec",
   "metadata": {},
   "outputs": [
    {
     "data": {
      "text/plain": [
       "[1, 2, 3, 4, 5, 6]"
      ]
     },
     "execution_count": 94,
     "metadata": {},
     "output_type": "execute_result"
    }
   ],
   "source": [
    "[1, 2, 3] + [4, 5, 6]  # In Python werden diese Listen zusammengehängt"
   ]
  },
  {
   "cell_type": "code",
   "execution_count": 96,
   "id": "c3a4299b-a68b-4a15-ad04-fd97d80433fd",
   "metadata": {},
   "outputs": [
    {
     "data": {
      "text/plain": [
       "array([5, 7, 9])"
      ]
     },
     "execution_count": 96,
     "metadata": {},
     "output_type": "execute_result"
    }
   ],
   "source": [
    "np.array([1, 2, 3]) + np.array([4, 5, 6])  # Hier werden die Stellen addiert"
   ]
  },
  {
   "cell_type": "code",
   "execution_count": 98,
   "id": "f4e2fc03-1303-4deb-9fad-141c489b8189",
   "metadata": {},
   "outputs": [
    {
     "data": {
      "text/plain": [
       "array([[100, 100, 200],\n",
       "       [  8,  40, 200],\n",
       "       [ 14,  16, 200]])"
      ]
     },
     "execution_count": 98,
     "metadata": {},
     "output_type": "execute_result"
    }
   ],
   "source": [
    "c + c  # Zwei Arrays können auch miteinander Vektorisiert werden"
   ]
  },
  {
   "cell_type": "markdown",
   "id": "e9b58538-18b0-4cdc-911a-bf889afde089",
   "metadata": {},
   "source": [
    "### Boolean Masken\n",
    "\n",
    "Vektorisierung mit einem Vergleichsoperator (Booleschen Operator)\n",
    "\n",
    "==, !=, <, >, <=, >=\n",
    "\n",
    "Wenn ein Array mit einem der Operatoren verarbeitet wird, bekommen wir eine Boolean Maske"
   ]
  },
  {
   "cell_type": "code",
   "execution_count": 100,
   "id": "8067e872-321d-4623-86f9-e646f7d9def1",
   "metadata": {},
   "outputs": [
    {
     "data": {
      "text/plain": [
       "array([False,  True,  True,  True])"
      ]
     },
     "execution_count": 100,
     "metadata": {},
     "output_type": "execute_result"
    }
   ],
   "source": [
    "a >= 2"
   ]
  },
  {
   "cell_type": "code",
   "execution_count": 103,
   "id": "2433f68b-5641-49b8-a1aa-554d1835bce6",
   "metadata": {},
   "outputs": [
    {
     "data": {
      "text/plain": [
       "array([[ True,  True,  True],\n",
       "       [False,  True,  True],\n",
       "       [False, False,  True]])"
      ]
     },
     "execution_count": 103,
     "metadata": {},
     "output_type": "execute_result"
    }
   ],
   "source": [
    "c >= 20"
   ]
  },
  {
   "cell_type": "markdown",
   "id": "2aaead3b-8b69-4a44-a339-f95400dc9ba8",
   "metadata": {},
   "source": [
    "#### Filterung machen\n",
    "\n",
    "Die Boolean Maske nehmen, und diese auf das originale Array anwenden"
   ]
  },
  {
   "cell_type": "code",
   "execution_count": 102,
   "id": "87dfb119-e704-4bd0-9801-2a13680c1419",
   "metadata": {},
   "outputs": [
    {
     "data": {
      "text/plain": [
       "array([2, 3, 4], dtype=int8)"
      ]
     },
     "execution_count": 102,
     "metadata": {},
     "output_type": "execute_result"
    }
   ],
   "source": [
    "a[a >= 2]  # Alle Werte, welche in der Boolean Maske True sind, werden hier herausgeworfen"
   ]
  },
  {
   "cell_type": "code",
   "execution_count": 104,
   "id": "25ac959a-74ca-4686-95b7-817949c4a531",
   "metadata": {},
   "outputs": [
    {
     "data": {
      "text/plain": [
       "array([ 50,  50, 100,  20, 100, 100])"
      ]
     },
     "execution_count": 104,
     "metadata": {},
     "output_type": "execute_result"
    }
   ],
   "source": [
    "c[c >= 20]"
   ]
  },
  {
   "cell_type": "code",
   "execution_count": 106,
   "id": "b262edc7-3d93-4b96-9ec2-19eed284c44b",
   "metadata": {},
   "outputs": [
    {
     "data": {
      "text/plain": [
       "array([[ True,  True,  True],\n",
       "       [False, False,  True],\n",
       "       [False, False,  True]])"
      ]
     },
     "execution_count": 106,
     "metadata": {},
     "output_type": "execute_result"
    }
   ],
   "source": [
    "# Aufgabe: Alle Werte in c finden, welche überdurchschnittlich sind\n",
    "c >= c.mean()"
   ]
  },
  {
   "cell_type": "code",
   "execution_count": 108,
   "id": "483d6d39-bd45-4c79-9ffc-ad5e94d307b9",
   "metadata": {},
   "outputs": [
    {
     "data": {
      "text/plain": [
       "array([ 50,  50, 100, 100, 100])"
      ]
     },
     "execution_count": 108,
     "metadata": {},
     "output_type": "execute_result"
    }
   ],
   "source": [
    "c[c >= c.mean()]"
   ]
  },
  {
   "cell_type": "markdown",
   "id": "1f618eca-e2a5-4964-bd68-1ecce75b5d16",
   "metadata": {},
   "source": [
    "### Performance zw. Python und Numpy"
   ]
  },
  {
   "cell_type": "code",
   "execution_count": 109,
   "id": "8a75c301-c49a-4249-9abb-d164fb8ad3ee",
   "metadata": {},
   "outputs": [],
   "source": [
    "p = 5"
   ]
  },
  {
   "cell_type": "code",
   "execution_count": 112,
   "id": "92dd1361-661e-4bff-9a12-36d10df2ebe5",
   "metadata": {},
   "outputs": [
    {
     "data": {
      "text/plain": [
       "int"
      ]
     },
     "execution_count": 112,
     "metadata": {},
     "output_type": "execute_result"
    }
   ],
   "source": [
    "type(p)"
   ]
  },
  {
   "cell_type": "code",
   "execution_count": 113,
   "id": "0ebdf7a0-b0c9-47f2-8ded-e046a62b6f6b",
   "metadata": {},
   "outputs": [],
   "source": [
    "import sys"
   ]
  },
  {
   "cell_type": "code",
   "execution_count": 115,
   "id": "3dd168e1-65ba-4a95-9a56-d3eed3caf62b",
   "metadata": {},
   "outputs": [
    {
     "data": {
      "text/plain": [
       "28"
      ]
     },
     "execution_count": 115,
     "metadata": {},
     "output_type": "execute_result"
    }
   ],
   "source": [
    "sys.getsizeof(p)  # 28 Byte pro Python int"
   ]
  },
  {
   "cell_type": "code",
   "execution_count": 117,
   "id": "5c315675-d01a-4bc0-b7ab-d806ba67d969",
   "metadata": {},
   "outputs": [
    {
     "data": {
      "text/plain": [
       "8"
      ]
     },
     "execution_count": 117,
     "metadata": {},
     "output_type": "execute_result"
    }
   ],
   "source": [
    "np.array([1, 2, 3]).itemsize  # 8 Byte pro Zahl = 24 Byte gesamt"
   ]
  },
  {
   "cell_type": "code",
   "execution_count": 119,
   "id": "5eba2424-2628-4b48-937f-0c523cdbdafc",
   "metadata": {},
   "outputs": [
    {
     "data": {
      "text/plain": [
       "1"
      ]
     },
     "execution_count": 119,
     "metadata": {},
     "output_type": "execute_result"
    }
   ],
   "source": [
    "np.array([1, 2, 3], dtype=np.int8).itemsize  # 1 Byte pro Zahl = 3 Byte gesamt"
   ]
  },
  {
   "cell_type": "markdown",
   "id": "e89e7f22-7014-44bd-a992-c0ae58f60097",
   "metadata": {},
   "source": [
    "#### Vergleich"
   ]
  },
  {
   "cell_type": "code",
   "execution_count": 127,
   "id": "ecdb302e-a6d8-4cbd-9d20-6ec1a8f84c0b",
   "metadata": {},
   "outputs": [],
   "source": [
    "import time\n",
    "def measureTime(func, *args, **kwargs):\n",
    "    start = time.time()\n",
    "    func(*args, **kwargs)\n",
    "    end = time.time()\n",
    "    print(f\"{round(end - start, 2)}s\")"
   ]
  },
  {
   "cell_type": "code",
   "execution_count": 128,
   "id": "43807aa6-5af2-4e04-9841-70d73826776f",
   "metadata": {},
   "outputs": [],
   "source": [
    "def pythonList():\n",
    "    list(range(100_000_000))"
   ]
  },
  {
   "cell_type": "code",
   "execution_count": 129,
   "id": "692173c0-251e-42ac-97cb-790092cf5652",
   "metadata": {},
   "outputs": [
    {
     "name": "stdout",
     "output_type": "stream",
     "text": [
      "1.62s\n"
     ]
    }
   ],
   "source": [
    "measureTime(pythonList)"
   ]
  },
  {
   "cell_type": "code",
   "execution_count": 133,
   "id": "f7c509e1-faca-4eea-b128-3684cf3837db",
   "metadata": {},
   "outputs": [],
   "source": [
    "def numpyArray():\n",
    "    np.arange(100_000_000, dtype=np.int32)"
   ]
  },
  {
   "cell_type": "code",
   "execution_count": 134,
   "id": "2c6fff43-f21f-4b4f-81b5-1247fe0a1de3",
   "metadata": {},
   "outputs": [
    {
     "name": "stdout",
     "output_type": "stream",
     "text": [
      "0.08s\n"
     ]
    }
   ],
   "source": [
    "measureTime(numpyArray)"
   ]
  },
  {
   "cell_type": "code",
   "execution_count": 132,
   "id": "9365cc31-a962-4ae7-b756-20dd7239d389",
   "metadata": {},
   "outputs": [],
   "source": [
    "array = np.arange(100_000_000)"
   ]
  },
  {
   "cell_type": "markdown",
   "id": "2bf82e84-ab7f-4f65-ae90-2b8becd4e017",
   "metadata": {},
   "source": [
    "### Weitere Funktionen"
   ]
  },
  {
   "cell_type": "code",
   "execution_count": 157,
   "id": "fcd9a2fc-d6bd-4e0c-b33b-60a0da1b5713",
   "metadata": {},
   "outputs": [
    {
     "data": {
      "text/plain": [
       "array([[39, 99, 78, 61, 43],\n",
       "       [38, 25, 45, 76, 37],\n",
       "       [98,  9,  5, 59, 70],\n",
       "       [23, 63, 38, 75, 53],\n",
       "       [32, 75, 72, 76, 80]], dtype=int32)"
      ]
     },
     "execution_count": 157,
     "metadata": {},
     "output_type": "execute_result"
    }
   ],
   "source": [
    "np.random.randint(100, size=(5, 5))  # Zufallszahlenarray bis 100 mit 5x5 Plätzen"
   ]
  },
  {
   "cell_type": "code",
   "execution_count": 159,
   "id": "aa212b17-c42f-4825-b20e-ef8651eb14c3",
   "metadata": {},
   "outputs": [
    {
     "data": {
      "text/plain": [
       "array([[0.7824743 , 0.87564141, 0.68593996],\n",
       "       [0.88163135, 0.23841267, 0.09194433],\n",
       "       [0.15443345, 0.34785261, 0.74581777]])"
      ]
     },
     "execution_count": 159,
     "metadata": {},
     "output_type": "execute_result"
    }
   ],
   "source": [
    "np.random.random(size=(3, 3))  # Kommazahlenarray mit 3x3 Plätzen"
   ]
  },
  {
   "cell_type": "code",
   "execution_count": 220,
   "id": "30ee2491-1c10-4c6c-b838-5decd626b4c7",
   "metadata": {},
   "outputs": [
    {
     "data": {
      "text/plain": [
       "array([[0.86917508, 5.86424529, 6.26577524],\n",
       "       [7.54602865, 8.66212248, 0.83007208],\n",
       "       [2.3429639 , 1.11707529, 3.13449878]])"
      ]
     },
     "execution_count": 220,
     "metadata": {},
     "output_type": "execute_result"
    }
   ],
   "source": [
    "np.random.random(size=(3, 3)) * 10  # Vektorisierung um Zahlen nicht nur von 0-1 zu haben"
   ]
  },
  {
   "cell_type": "markdown",
   "id": "dbe8a1e5-1ecd-4569-8d64-1eabf8e7534d",
   "metadata": {},
   "source": [
    "#### reshape\n",
    "\n",
    "Ändert die Form (Dimensionen) von einem Array\n",
    "\n",
    "1D -> 2D, 2D -> 1D"
   ]
  },
  {
   "cell_type": "code",
   "execution_count": 166,
   "id": "eee12200-febc-4992-997d-8d9b95c7a2b0",
   "metadata": {},
   "outputs": [],
   "source": [
    "r = np.array([[1], [2], [3]])"
   ]
  },
  {
   "cell_type": "code",
   "execution_count": 167,
   "id": "2c230634-0632-435d-821a-4cf0051727cb",
   "metadata": {},
   "outputs": [
    {
     "data": {
      "text/plain": [
       "array([[1],\n",
       "       [2],\n",
       "       [3]])"
      ]
     },
     "execution_count": 167,
     "metadata": {},
     "output_type": "execute_result"
    }
   ],
   "source": [
    "r"
   ]
  },
  {
   "cell_type": "code",
   "execution_count": 169,
   "id": "b64ac5bf-be3b-46b9-b428-46a5e9dcc76c",
   "metadata": {},
   "outputs": [
    {
     "data": {
      "text/plain": [
       "array([1, 2, 3])"
      ]
     },
     "execution_count": 169,
     "metadata": {},
     "output_type": "execute_result"
    }
   ],
   "source": [
    "r.reshape(-1)  # reshape(-1): Eine Dimension entfernen"
   ]
  },
  {
   "cell_type": "code",
   "execution_count": 174,
   "id": "51f60a29-8e28-40ce-a9fc-93ad4f1b14a2",
   "metadata": {},
   "outputs": [],
   "source": [
    "e = np.arange(10)"
   ]
  },
  {
   "cell_type": "code",
   "execution_count": 175,
   "id": "403886c2-16a4-457f-8404-755512c4fd90",
   "metadata": {},
   "outputs": [
    {
     "data": {
      "text/plain": [
       "array([0, 1, 2, 3, 4, 5, 6, 7, 8, 9])"
      ]
     },
     "execution_count": 175,
     "metadata": {},
     "output_type": "execute_result"
    }
   ],
   "source": [
    "e"
   ]
  },
  {
   "cell_type": "code",
   "execution_count": 184,
   "id": "adfcdd04-48c2-4d21-a0fc-3a9efe974ba4",
   "metadata": {},
   "outputs": [
    {
     "data": {
      "text/plain": [
       "array([[0],\n",
       "       [1],\n",
       "       [2],\n",
       "       [3],\n",
       "       [4],\n",
       "       [5],\n",
       "       [6],\n",
       "       [7],\n",
       "       [8],\n",
       "       [9]])"
      ]
     },
     "execution_count": 184,
     "metadata": {},
     "output_type": "execute_result"
    }
   ],
   "source": [
    "e.reshape(-1, 1)  # Beliebig viele Elemente pro Spalte, ein Element pro Zeile"
   ]
  },
  {
   "cell_type": "code",
   "execution_count": 182,
   "id": "b283b36a-e07a-4c13-b30e-150ddeba7815",
   "metadata": {},
   "outputs": [
    {
     "data": {
      "text/plain": [
       "array([[0, 1],\n",
       "       [2, 3],\n",
       "       [4, 5],\n",
       "       [6, 7],\n",
       "       [8, 9]])"
      ]
     },
     "execution_count": 182,
     "metadata": {},
     "output_type": "execute_result"
    }
   ],
   "source": [
    "e.reshape(5, 2)"
   ]
  },
  {
   "cell_type": "code",
   "execution_count": 181,
   "id": "191c893f-44cc-4001-879a-a1fe5d1d1974",
   "metadata": {},
   "outputs": [
    {
     "data": {
      "text/plain": [
       "array([[0, 1, 2, 3, 4],\n",
       "       [5, 6, 7, 8, 9]])"
      ]
     },
     "execution_count": 181,
     "metadata": {},
     "output_type": "execute_result"
    }
   ],
   "source": [
    "e.reshape(2, 5)"
   ]
  },
  {
   "cell_type": "markdown",
   "id": "32795279-e189-414d-a2cc-33b21868858f",
   "metadata": {},
   "source": [
    "#### linspace\n",
    "\n",
    "linear space\n",
    "\n",
    "Array von X bis Y, mit Z Plätzen\n",
    "\n",
    "Jedes Element hat denselben Abstand zueinander"
   ]
  },
  {
   "cell_type": "code",
   "execution_count": 186,
   "id": "e6a006b1-56f6-4cc3-b9ec-536c9f88aca9",
   "metadata": {},
   "outputs": [
    {
     "data": {
      "text/plain": [
       "array([  0.        ,   2.04081633,   4.08163265,   6.12244898,\n",
       "         8.16326531,  10.20408163,  12.24489796,  14.28571429,\n",
       "        16.32653061,  18.36734694,  20.40816327,  22.44897959,\n",
       "        24.48979592,  26.53061224,  28.57142857,  30.6122449 ,\n",
       "        32.65306122,  34.69387755,  36.73469388,  38.7755102 ,\n",
       "        40.81632653,  42.85714286,  44.89795918,  46.93877551,\n",
       "        48.97959184,  51.02040816,  53.06122449,  55.10204082,\n",
       "        57.14285714,  59.18367347,  61.2244898 ,  63.26530612,\n",
       "        65.30612245,  67.34693878,  69.3877551 ,  71.42857143,\n",
       "        73.46938776,  75.51020408,  77.55102041,  79.59183673,\n",
       "        81.63265306,  83.67346939,  85.71428571,  87.75510204,\n",
       "        89.79591837,  91.83673469,  93.87755102,  95.91836735,\n",
       "        97.95918367, 100.        ])"
      ]
     },
     "execution_count": 186,
     "metadata": {},
     "output_type": "execute_result"
    }
   ],
   "source": [
    "np.linspace(0, 100, 50)"
   ]
  },
  {
   "cell_type": "code",
   "execution_count": 189,
   "id": "ea6a3001-f212-44c1-9ebf-cf8ffcab1e8e",
   "metadata": {},
   "outputs": [
    {
     "data": {
      "text/plain": [
       "array([ 0.  ,  0.25,  0.5 ,  0.75,  1.  ,  1.25,  1.5 ,  1.75,  2.  ,\n",
       "        2.25,  2.5 ,  2.75,  3.  ,  3.25,  3.5 ,  3.75,  4.  ,  4.25,\n",
       "        4.5 ,  4.75,  5.  ,  5.25,  5.5 ,  5.75,  6.  ,  6.25,  6.5 ,\n",
       "        6.75,  7.  ,  7.25,  7.5 ,  7.75,  8.  ,  8.25,  8.5 ,  8.75,\n",
       "        9.  ,  9.25,  9.5 ,  9.75, 10.  ])"
      ]
     },
     "execution_count": 189,
     "metadata": {},
     "output_type": "execute_result"
    }
   ],
   "source": [
    "np.linspace(0, 10, 41)"
   ]
  },
  {
   "cell_type": "markdown",
   "id": "67c2d242-3b35-47ab-849d-08ebc9eb4bb6",
   "metadata": {},
   "source": [
    "#### zeros, ones"
   ]
  },
  {
   "cell_type": "code",
   "execution_count": 190,
   "id": "ee272c94-a021-4bde-a184-21720f360e9c",
   "metadata": {},
   "outputs": [
    {
     "data": {
      "text/plain": [
       "array([0., 0., 0., 0., 0., 0., 0., 0., 0., 0.])"
      ]
     },
     "execution_count": 190,
     "metadata": {},
     "output_type": "execute_result"
    }
   ],
   "source": [
    "np.zeros(10)"
   ]
  },
  {
   "cell_type": "code",
   "execution_count": 191,
   "id": "8455a537-4101-470f-8b67-b165665c3394",
   "metadata": {},
   "outputs": [
    {
     "data": {
      "text/plain": [
       "array([1., 1., 1., 1., 1., 1., 1., 1., 1., 1.])"
      ]
     },
     "execution_count": 191,
     "metadata": {},
     "output_type": "execute_result"
    }
   ],
   "source": [
    "np.ones(10)"
   ]
  },
  {
   "cell_type": "code",
   "execution_count": 193,
   "id": "a21aa530-36e4-46af-a6a8-56f39a1d5f67",
   "metadata": {},
   "outputs": [
    {
     "data": {
      "text/plain": [
       "array([False, False, False, False, False, False, False, False, False,\n",
       "       False])"
      ]
     },
     "execution_count": 193,
     "metadata": {},
     "output_type": "execute_result"
    }
   ],
   "source": [
    "np.ones(10) != 1"
   ]
  },
  {
   "cell_type": "markdown",
   "id": "d801f9c5-32ef-476c-a7ec-0368074aa98a",
   "metadata": {},
   "source": [
    "#### hstack, vstack\n",
    "\n",
    "Horizontal Stack, Vertical Stack\n",
    "\n",
    "Baut mehrere Arrays zusammen"
   ]
  },
  {
   "cell_type": "code",
   "execution_count": 195,
   "id": "6dfc7f21-0a73-4b2e-9372-5ab677aa4002",
   "metadata": {},
   "outputs": [],
   "source": [
    "f = np.random.randint(100, size=(10, 10))"
   ]
  },
  {
   "cell_type": "code",
   "execution_count": 196,
   "id": "754e0cf3-c025-4f1d-8e00-3eb01c32c850",
   "metadata": {},
   "outputs": [
    {
     "data": {
      "text/plain": [
       "array([[26, 78, 69, 30, 18, 96, 25, 91, 67, 99],\n",
       "       [46, 46, 45, 63, 55, 95, 14, 90, 90, 91],\n",
       "       [77, 90,  5, 33,  2, 82, 54, 63, 10, 82],\n",
       "       [45, 40, 17, 85, 35, 80, 32, 40, 75, 49],\n",
       "       [45, 37, 56, 16, 89, 95, 26, 72, 30, 32],\n",
       "       [92, 76, 20, 53, 33, 84, 43, 56, 88, 40],\n",
       "       [55, 34, 55, 33, 23,  1, 40, 50, 23, 61],\n",
       "       [89, 41, 58, 11, 43, 73, 51, 55,  3, 14],\n",
       "       [45, 34, 60, 57, 97, 28, 68, 42, 23, 74],\n",
       "       [76,  4, 87, 84, 40, 68, 97,  0, 44, 45]], dtype=int32)"
      ]
     },
     "execution_count": 196,
     "metadata": {},
     "output_type": "execute_result"
    }
   ],
   "source": [
    "f"
   ]
  },
  {
   "cell_type": "code",
   "execution_count": 201,
   "id": "2e5fbe28-f1f9-43a8-adf7-ff579a89d678",
   "metadata": {},
   "outputs": [
    {
     "data": {
      "text/plain": [
       "array([599, 635, 498, 498, 498, 585, 375, 438, 528, 545])"
      ]
     },
     "execution_count": 201,
     "metadata": {},
     "output_type": "execute_result"
    }
   ],
   "source": [
    "# Aufgabe: Durchschnitte von allen Arrays berechnen, und am Ende anhängen\n",
    "f.sum(axis=1)"
   ]
  },
  {
   "cell_type": "code",
   "execution_count": 206,
   "id": "58819682-512a-4c57-8309-c6e31577318b",
   "metadata": {},
   "outputs": [
    {
     "data": {
      "text/plain": [
       "array([[599],\n",
       "       [635],\n",
       "       [498],\n",
       "       [498],\n",
       "       [498],\n",
       "       [585],\n",
       "       [375],\n",
       "       [438],\n",
       "       [528],\n",
       "       [545]])"
      ]
     },
     "execution_count": 206,
     "metadata": {},
     "output_type": "execute_result"
    }
   ],
   "source": [
    "f.sum(axis=1).reshape(-1, 1)  # Array zweidimensional machen"
   ]
  },
  {
   "cell_type": "code",
   "execution_count": 204,
   "id": "7c240ae5-94e9-4386-bc0a-345622538932",
   "metadata": {},
   "outputs": [
    {
     "data": {
      "text/plain": [
       "array([[ 26,  78,  69,  30,  18,  96,  25,  91,  67,  99, 599],\n",
       "       [ 46,  46,  45,  63,  55,  95,  14,  90,  90,  91, 635],\n",
       "       [ 77,  90,   5,  33,   2,  82,  54,  63,  10,  82, 498],\n",
       "       [ 45,  40,  17,  85,  35,  80,  32,  40,  75,  49, 498],\n",
       "       [ 45,  37,  56,  16,  89,  95,  26,  72,  30,  32, 498],\n",
       "       [ 92,  76,  20,  53,  33,  84,  43,  56,  88,  40, 585],\n",
       "       [ 55,  34,  55,  33,  23,   1,  40,  50,  23,  61, 375],\n",
       "       [ 89,  41,  58,  11,  43,  73,  51,  55,   3,  14, 438],\n",
       "       [ 45,  34,  60,  57,  97,  28,  68,  42,  23,  74, 528],\n",
       "       [ 76,   4,  87,  84,  40,  68,  97,   0,  44,  45, 545]])"
      ]
     },
     "execution_count": 204,
     "metadata": {},
     "output_type": "execute_result"
    }
   ],
   "source": [
    "np.hstack([f, f.sum(axis=1).reshape(-1, 1)])  # Wichtig: hstack/vstack benötigen als Parameter immer eine Liste -> Klammern"
   ]
  },
  {
   "cell_type": "code",
   "execution_count": 208,
   "id": "64f19d5d-8b59-4a59-9197-930f9000095f",
   "metadata": {},
   "outputs": [
    {
     "data": {
      "text/plain": [
       "array([596, 480, 472, 465, 435, 702, 450, 559, 453, 587])"
      ]
     },
     "execution_count": 208,
     "metadata": {},
     "output_type": "execute_result"
    }
   ],
   "source": [
    "# Aufgabe 2: Die Summen aller Spalten am Ende anhängen\n",
    "f.sum(axis=0)"
   ]
  },
  {
   "cell_type": "code",
   "execution_count": 212,
   "id": "c11c87b6-97fa-4f4e-a46a-a807342b1331",
   "metadata": {},
   "outputs": [
    {
     "data": {
      "text/plain": [
       "array([[ 26,  78,  69,  30,  18,  96,  25,  91,  67,  99],\n",
       "       [ 46,  46,  45,  63,  55,  95,  14,  90,  90,  91],\n",
       "       [ 77,  90,   5,  33,   2,  82,  54,  63,  10,  82],\n",
       "       [ 45,  40,  17,  85,  35,  80,  32,  40,  75,  49],\n",
       "       [ 45,  37,  56,  16,  89,  95,  26,  72,  30,  32],\n",
       "       [ 92,  76,  20,  53,  33,  84,  43,  56,  88,  40],\n",
       "       [ 55,  34,  55,  33,  23,   1,  40,  50,  23,  61],\n",
       "       [ 89,  41,  58,  11,  43,  73,  51,  55,   3,  14],\n",
       "       [ 45,  34,  60,  57,  97,  28,  68,  42,  23,  74],\n",
       "       [ 76,   4,  87,  84,  40,  68,  97,   0,  44,  45],\n",
       "       [596, 480, 472, 465, 435, 702, 450, 559, 453, 587]])"
      ]
     },
     "execution_count": 212,
     "metadata": {},
     "output_type": "execute_result"
    }
   ],
   "source": [
    "np.vstack([f, f.sum(axis=0)])"
   ]
  }
 ],
 "metadata": {
  "kernelspec": {
   "display_name": "Python 3 (ipykernel)",
   "language": "python",
   "name": "python3"
  },
  "language_info": {
   "codemirror_mode": {
    "name": "ipython",
    "version": 3
   },
   "file_extension": ".py",
   "mimetype": "text/x-python",
   "name": "python",
   "nbconvert_exporter": "python",
   "pygments_lexer": "ipython3",
   "version": "3.13.1"
  }
 },
 "nbformat": 4,
 "nbformat_minor": 5
}
